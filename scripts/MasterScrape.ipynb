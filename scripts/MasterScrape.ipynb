{
 "cells": [
  {
   "cell_type": "code",
   "execution_count": 80,
   "id": "a41f5da8",
   "metadata": {},
   "outputs": [],
   "source": [
    "import pandas as pd\n",
    "from time import sleep\n",
    "import random\n",
    "import sqlite3\n",
    "con = sqlite3.connect('')\n",
    "\n",
    "pages = ['https://www.teamrankings.com/nfl/stat/points-per-game?date=2022-02-14',\n",
    "'https://www.teamrankings.com/nfl/stat/average-scoring-margin?date=2022-02-14',\n",
    "'https://www.teamrankings.com/nfl/stat/opponent-other-touchdowns-per-game?date=2018-02-14']\n",
    "\n",
    "data = []\n",
    "\n",
    "for x in pages:\n",
    "    site = x #the site I want to scrape\n",
    "    stat = site.rsplit('/', 1)[1] #this saves the text after the last slash in the URL so I can use it for my filenames\n",
    "    l = len(stat) #getting the length of the stat\n",
    "    stat2 = stat[:l-16] #this subtracts the last 16 characters from from the stat variable to remove everything after the \"?\" and isolate just the stat name\n",
    "    date = site.rsplit('=', 1)[1]\n",
    "    l2 = len(date) #getting the length of the date\n",
    "    year = int(date[:l2-6]) #this subtracts the month and day from the date to isolate the year and then subtracts 1. Subtracting 1 because the stats are for the previous season. I pull the stat page from February after the SuperBowl but the season was mostly in the previous calendar year.\n",
    "    df = pd.read_html(site,header=0,index_col=0)[0] #reading in the site\n",
    "    df2 = df.iloc[:, : 6]\n",
    "    df2.columns = ['Team','Average','Last 3','Last 1','Home','Away'] \n",
    "    df3 = df2.assign(Year = year-1, Stat = stat2)\n",
    "    data.append(df3)\n",
    "    v = random.randint(0,12)\n",
    "    sleep(v)\n",
    "\n",
    "result = pd.concat(data)\n",
    "result.to_csv('test3.csv')"
   ]
  },
  {
   "cell_type": "code",
   "execution_count": null,
   "id": "5ec22618",
   "metadata": {},
   "outputs": [],
   "source": []
  },
  {
   "cell_type": "code",
   "execution_count": null,
   "id": "d5e89261",
   "metadata": {},
   "outputs": [],
   "source": []
  }
 ],
 "metadata": {
  "kernelspec": {
   "display_name": "Python 3 (ipykernel)",
   "language": "python",
   "name": "python3"
  },
  "language_info": {
   "codemirror_mode": {
    "name": "ipython",
    "version": 3
   },
   "file_extension": ".py",
   "mimetype": "text/x-python",
   "name": "python",
   "nbconvert_exporter": "python",
   "pygments_lexer": "ipython3",
   "version": "3.9.13"
  }
 },
 "nbformat": 4,
 "nbformat_minor": 5
}
