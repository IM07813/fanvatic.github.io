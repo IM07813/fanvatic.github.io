{
 "cells": [
  {
   "cell_type": "code",
   "execution_count": 52,
   "id": "e46a68f0",
   "metadata": {},
   "outputs": [],
   "source": [
    "###GET TEAMS HOME AND AWAY DIFFERENTIALS INTO SQL\n",
    "import pandas as pd\n",
    "import sqlite3 as s\n",
    "\n",
    "conn = s.connect('NBA_odds.db') # connect to my datbase\n",
    "\n",
    "diff = pd.read_html('https://www.teamrankings.com/nba/stat/average-scoring-margin')[0] #read data from TeamRankings for Home and Away Point differentials\n",
    "diff = diff.loc[:, ['Team', '2022','Home','Away']]\n",
    "\n",
    "diff.to_sql('differentials', conn, if_exists='replace')\n",
    "\n",
    "\n",
    "\n",
    "###GET TODAYS GAMES INTO SQL\n",
    "cbs = 'https://www.cbssports.com/nba/schedule/' #the site I am pulling the NBA games from\n",
    "\n",
    "daily = [] #where I will store the NBA games\n",
    "\n",
    "i=0\n",
    "while True:\n",
    "    try:\n",
    "        df = pd.read_html(cbs)[i] #iterate through all the tables on the cbs page as each day of games has it's own table\n",
    "        df2 = df.iloc[:, : 2] #only pull back the first two columns 'Away' and 'Home'\n",
    "        daily.append(df2) #add to daily list\n",
    "        i +=1\n",
    "    except IndexError: #this stops the function once there are no more tables on the cbs page\n",
    "        break\n",
    "\n",
    "\n",
    "games = pd.concat(daily) #concatenate my different tables into one so I can push it to sql\n",
    "\n",
    "games.replace('Oklahoma City', 'Okla City', inplace=True) #aligning team names between CBS and TeamRankings\n",
    "games.replace('L.A. Lakers', 'LA Lakers', inplace=True) #aligning team names between CBS and TeamRankings\n",
    "games.replace('L.A. Clippers', 'LA Clippers', inplace=True) #aligning team names between CBS and TeamRankings\n",
    "games.replace('Golden St.', 'Golden State', inplace=True) #aligning team names between CBS and TeamRankings\n",
    "games.to_sql('NBA_games', conn, if_exists='replace') # Save as table NBA_Games in SQL\n",
    "\n",
    "###GET TODAYS ODDS\n",
    "odds = pd.read_csv('https://docs.google.com/spreadsheets/d/e/2PACX-1vT0sVk5HMn1hu9PzOb3JtLlMsszNmif0Gy9gMsQeQVYsuARF0e2_r9-Qcribo3NGhzUXYPUeCulixJi/pub?gid=300424038&single=true&output=csv')\n",
    "odds.to_sql('Odds', conn, if_exists='replace')\n",
    "\n",
    "conn.commit()\n",
    "conn.close()"
   ]
  },
  {
   "cell_type": "code",
   "execution_count": 53,
   "id": "5b54c6ed",
   "metadata": {},
   "outputs": [],
   "source": [
    "#GET TODAYS ODDS\n",
    "\n",
    "import pandas as pd\n",
    "import sqlite3 as s\n",
    "\n",
    "conn = s.connect('NBA_odds.db') #connect to my database\n",
    "\n",
    "odds = pd.read_csv('https://docs.google.com/spreadsheets/d/e/2PACX-1vT0sVk5HMn1hu9PzOb3JtLlMsszNmif0Gy9gMsQeQVYsuARF0e2_r9-Qcribo3NGhzUXYPUeCulixJi/pub?gid=300424038&single=true&output=csv')\n",
    "odds.to_sql('Odds', conn, if_exists='replace')\n",
    "\n",
    "conn.commit()\n",
    "conn.close()\n",
    "\n"
   ]
  }
 ],
 "metadata": {
  "kernelspec": {
   "display_name": "Python 3 (ipykernel)",
   "language": "python",
   "name": "python3"
  },
  "language_info": {
   "codemirror_mode": {
    "name": "ipython",
    "version": 3
   },
   "file_extension": ".py",
   "mimetype": "text/x-python",
   "name": "python",
   "nbconvert_exporter": "python",
   "pygments_lexer": "ipython3",
   "version": "3.9.13"
  }
 },
 "nbformat": 4,
 "nbformat_minor": 5
}
