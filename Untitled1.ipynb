{
 "cells": [
  {
   "cell_type": "code",
   "execution_count": 3,
   "id": "e44ab261",
   "metadata": {},
   "outputs": [
    {
     "data": {
      "text/plain": [
       "[Atlantic     Rank Overall W-L    Pct    GB Div W-L  Home  Road Streak\n",
       " Central      Rank Overall W-L    Pct    GB Div W-L  Home  Road Streak\n",
       " Southeast    Rank Overall W-L    Pct    GB Div W-L  Home  Road Streak\n",
       " Boston          1       26-10  0.722    --     4-0  15-5  11-5     W4\n",
       " Brooklyn        5       23-12  0.657   2.5     5-2  12-5  11-7    W10\n",
       " Philadelphia    8       20-14  0.588   5.0     4-3  14-5   6-9     L2\n",
       " New York       11       18-18  0.500   8.0     1-4  8-10  10-8     L5\n",
       " Toronto        13       16-20  0.444  10.0     2-7  11-8  5-12     W1\n",
       " Milwaukee       7       23-12  0.657    --     4-3  15-3   8-9     W1\n",
       " Cleveland       2       22-14  0.611   1.5     5-3  16-4  6-10     L3\n",
       " Indiana        24       19-17  0.528   4.5     2-2  11-7  8-10     W2\n",
       " Chicago        17       16-19  0.457   7.0     4-1   9-8  7-11     W2\n",
       " Detroit        28        9-29  0.237  15.5     0-6  5-13  4-16     L1\n",
       " Miami          18       18-18  0.500    --     5-1  11-8  6-10     L1\n",
       " Atlanta        20       17-19  0.472   1.0     4-3  11-8  6-11     L3\n",
       " Washington     22       16-21  0.432   2.5     4-3  10-7  6-14     W4\n",
       " Orlando        26       13-24  0.351   5.5     2-5  9-11  4-13     L3\n",
       " Charlotte      27       10-26  0.278   8.0     3-6  5-11  5-15     W1,\n",
       " Northwest    Rank Overall W-L    Pct    GB Div W-L  Home   Road Streak\n",
       " Pacific      Rank Overall W-L    Pct    GB Div W-L  Home   Road Streak\n",
       " Southwest    Rank Overall W-L    Pct    GB Div W-L  Home   Road Streak\n",
       " Denver         10       23-12  0.657    --     7-2  13-3   10-9     W1\n",
       " Portland       16       18-17  0.514   5.0     4-5   8-6  10-11     L1\n",
       " Utah           21       19-19  0.500   5.5     3-4  12-5   7-14     L3\n",
       " Minnesota      19       16-20  0.444   7.5     4-4   9-8   7-12     L5\n",
       " Okla City      25       15-20  0.429   8.0     3-6  10-8   5-12     L1\n",
       " LA Clippers    14       21-16  0.568    --     3-4  11-7   10-9     L1\n",
       " Sacramento     15       19-15  0.559   0.5     4-4  11-7    8-8     W2\n",
       " Phoenix         6       20-17  0.541   1.0     7-0  14-5   6-12     L2\n",
       " Golden State   12       19-18  0.514   2.0     4-3  16-2   3-16     W4\n",
       " LA Lakers      23       15-21  0.417   5.5     0-7   8-8   7-13     W1\n",
       " New Orleans     3       23-12  0.657    --     6-1  16-4    7-8     W5\n",
       " Memphis         4       21-13  0.618   1.5     3-2  13-3   8-10     W1\n",
       " Dallas          9       20-16  0.556   3.5     3-2  15-5   5-11     W5\n",
       " San Antonio    30       12-23  0.343  11.0     2-4  7-11   5-11     W1\n",
       " Houston        29       10-25  0.286  13.0     1-6  6-10   4-15     L2]"
      ]
     },
     "execution_count": 3,
     "metadata": {},
     "output_type": "execute_result"
    }
   ],
   "source": [
    "import pandas as pd\n",
    "\n",
    "df = pd.read_html('https://www.teamrankings.com/nba/standings/',index_col=0)\n",
    "df\n"
   ]
  }
 ],
 "metadata": {
  "kernelspec": {
   "display_name": "Python 3 (ipykernel)",
   "language": "python",
   "name": "python3"
  },
  "language_info": {
   "codemirror_mode": {
    "name": "ipython",
    "version": 3
   },
   "file_extension": ".py",
   "mimetype": "text/x-python",
   "name": "python",
   "nbconvert_exporter": "python",
   "pygments_lexer": "ipython3",
   "version": "3.9.13"
  }
 },
 "nbformat": 4,
 "nbformat_minor": 5
}
