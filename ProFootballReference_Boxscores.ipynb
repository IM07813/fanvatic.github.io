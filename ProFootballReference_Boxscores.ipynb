{
 "cells": [
  {
   "cell_type": "code",
   "execution_count": 7,
   "id": "1cf25873",
   "metadata": {},
   "outputs": [],
   "source": [
    "import pandas as pd\n",
    "from time import sleep\n",
    "import requests\n",
    "from bs4 import BeautifulSoup\n",
    "\n",
    "site = 'https://www.pro-football-reference.com/years/'\n",
    "weeks = ['1','2','3','4','5','6','7','8','9','10','11','12','13','14','15','16','17','18']\n",
    "years = ['2022','2021'] #the years I want to pull data for when the NFL had 17 games (18 weeks)\n",
    "weeks2 = ['1','2','3','4','5','6','7','8','9','10','11','12','13','14','15','16','17']\n",
    "years2 = ['2020','2019','2018','2017','2016'] #the years I want to pull data for when the NFL had 16 games (17 weeks)\n",
    "pfr_bsp = [] # this is the list where I'll store my pro-football-reference weekly box score pages\n",
    "\n",
    "for a in years:\n",
    "    for b in weeks:\n",
    "        pfr_bsp.append(site + a + '/week_'+ b + '.htm')\n",
    "\n",
    "for c in years2:\n",
    "    for d in weeks2:\n",
    "        pfr_bsp.append(site + c + '/week_' + d + '.htm')\n",
    "\n",
    "urls = []\n",
    "for z in pfr_bsp:\n",
    "    reqs = requests.get(z)\n",
    "    soup = BeautifulSoup(reqs.text,'html.parser')\n",
    "    for link in soup.find_all('a'):\n",
    "        urls.append(z)\n",
    "    sleep(3)"
   ]
  },
  {
   "cell_type": "code",
   "execution_count": null,
   "id": "0057aee1",
   "metadata": {},
   "outputs": [],
   "source": []
  },
  {
   "cell_type": "code",
   "execution_count": null,
   "id": "2a57b70c",
   "metadata": {},
   "outputs": [],
   "source": []
  },
  {
   "cell_type": "code",
   "execution_count": null,
   "id": "3d86245c",
   "metadata": {},
   "outputs": [],
   "source": []
  },
  {
   "cell_type": "code",
   "execution_count": null,
   "id": "3a6a038f",
   "metadata": {},
   "outputs": [],
   "source": []
  },
  {
   "cell_type": "code",
   "execution_count": null,
   "id": "05f9787f",
   "metadata": {},
   "outputs": [],
   "source": []
  },
  {
   "cell_type": "code",
   "execution_count": null,
   "id": "54f33169",
   "metadata": {},
   "outputs": [],
   "source": []
  },
  {
   "cell_type": "code",
   "execution_count": null,
   "id": "5c4cfd86",
   "metadata": {},
   "outputs": [],
   "source": []
  },
  {
   "cell_type": "code",
   "execution_count": null,
   "id": "6e3e5c84",
   "metadata": {},
   "outputs": [],
   "source": []
  }
 ],
 "metadata": {
  "kernelspec": {
   "display_name": "Python 3 (ipykernel)",
   "language": "python",
   "name": "python3"
  },
  "language_info": {
   "codemirror_mode": {
    "name": "ipython",
    "version": 3
   },
   "file_extension": ".py",
   "mimetype": "text/x-python",
   "name": "python",
   "nbconvert_exporter": "python",
   "pygments_lexer": "ipython3",
   "version": "3.9.13"
  }
 },
 "nbformat": 4,
 "nbformat_minor": 5
}
